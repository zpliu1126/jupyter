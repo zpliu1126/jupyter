{
 "cells": [
  {
   "cell_type": "markdown",
   "metadata": {},
   "source": [
    "# juicer介绍\n",
    " juicer是一款非常实用的Hi-C软件，通过简单的设置参数，就能处理巨大的Hi-C数据，这款软件就涵盖了一下功能:\n",
    " + 直接将原始数据处理成指定精度的Hi-C交互数据\n",
    " + 使用juicer-tools等工具，鉴定TAD、染色质loop等\n"
   ]
  },
  {
   "cell_type": "markdown",
   "metadata": {},
   "source": [
    "### 1.安装\n",
    "\n",
    "#### 1.1依赖项目\n",
    "+ GNU核心命令`cat`啥的，基本上centos系统就行\n",
    "+ BWA 用于序列比对\n",
    "+ java 1.7 or java 1.8\n",
    "+ juicer Tools jar\n",
    "进行下游的TAD鉴定、染色质loop识别时需要用到GPU计算\n",
    "+ CUDA 并行计算GPU\n",
    "+ 软件包自带CUDA.7的编译库，也可以从这下载[JCuda](http://www.jcuda.org/downloads/downloads.html)\n",
    "+ 当然为了获得最好的计算性能，建议使用高性能的GPU集群进行计算\n",
    "\n",
    "#### 1.2特定的集群\n",
    "目前juicer支持以下几种集群，在进行分析时需要使用juicer包内对应的scripts\n",
    "+ OpenLava\n",
    "+ LSF\n",
    "+ SLURM\n",
    "+ GridEngine (Univa, etc. any flavor)\n",
    "\n",
    "#### 1.3目录结构\n",
    "+ scripts/ 放置juicer-Tools\n",
    "+ reference/ 存放参考基因组文件和BWA索引文件\n",
    "+ restriction_sites/ 限制性酶切等文件，没有的话，跑的时候用`-s none`参数\n",
    "+ sample/fastq/ 测序数据文件"
   ]
  },
  {
   "cell_type": "markdown",
   "metadata": {},
   "source": [
    "### 2.测试\n",
    "```bash\n",
    "# 克隆仓库\n",
    "git clone git@github.com:aidenlab/juicer.git --depth=1 \n",
    "```\n",
    "#### 2.1创建工作目录、构造，目录结构\n",
    "以后就在`~/HiCSoftware/juicer`这个目录下跑juicer\n",
    "```bash\n",
    "cd home\n",
    "mkdir -p HiCSoftware/juicer\n",
    "cd HiCSoftware/juicer\n",
    "##构造目录结构和下载数据\n",
    "mkdir references; cd references\n",
    "wget https://s3.amazonaws.com/juicerawsmirror/opt/juicer/references/Homo_sapiens_assembly19.fasta\n",
    "wget https://s3.amazonaws.com/juicerawsmirror/opt/juicer/references/Homo_sapiens_assembly19.fasta.amb\n",
    "wget https://s3.amazonaws.com/juicerawsmirror/opt/juicer/references/Homo_sapiens_assembly19.fasta.ann\n",
    "wget https://s3.amazonaws.com/juicerawsmirror/opt/juicer/references/Homo_sapiens_assembly19.fasta.bwt\n",
    "wget https://s3.amazonaws.com/juicerawsmirror/opt/juicer/references/Homo_sapiens_assembly19.fasta.pac\n",
    "wget https://s3.amazonaws.com/juicerawsmirror/opt/juicer/references/Homo_sapiens_assembly19.fasta.sa\n",
    "## 下载酶切数据\n",
    "mkdir ../restriction_sites; cd ../restriction_sites\n",
    "wget https://s3.amazonaws.com/juicerawsmirror/opt/juicer/restriction_sites/hg19_MboI.txt\n",
    "\n",
    "## 建立对应集群版本的脚本软连接\n",
    "cd ../\n",
    "ln -s ~/github/juicer/LSF/scripts/ scripts\n",
    "cd scripts\n",
    "wget https://hicfiles.tc4ga.com/public/juicer/juicer_tools.1.9.9_jcuda.0.8.jar\n",
    "ln -s 绝对路径/juicer_tools.1.7.6_jcuda.0.8.jar juicer_tools.jar\n",
    "cd ..\n",
    "\n",
    "## 创建样品目录和测序数据目录\n",
    "mkdir HIC003; cd HIC003\n",
    "mkdir fastq; cd fastq\n",
    "wget http://juicerawsmirror.s3.amazonaws.com/opt/juicer/work/HIC003/fastq/HIC003_S2_L001_R1_001.fastq.gz\n",
    "wget http://juicerawsmirror.s3.amazonaws.com/opt/juicer/work/HIC003/fastq/HIC003_S2_L001_R2_001.fastq.gz\n",
    "cd .. ##当前位于样品目录\n",
    "## 运行测试数据、一定要使用绝对路径\n",
    "~/HiCSoftware/juicer/scripts/juicer.sh -D ~/HiCSoftware/juicer\n",
    "```"
   ]
  },
  {
   "cell_type": "markdown",
   "metadata": {},
   "source": [
    "#### 3.集群版本参数说明\n",
    "\n",
    "+ `-p` 染色体长度文件，绝对路径\n",
    "+ `-z` 基因组fa文件，绝对路径，bwa索引需要和fasta文件在同一文件夹\n",
    "+ `-s` 酶切类型 \"HindIII\" or 默认为 \"MboI\",'none\n",
    "+ `-d` 指定样本目录，fastq文件夹需要在目录下，最终会生成aligned文件\n",
    "+ `-t` 指定线程数\n",
    "+ `-C` 并行运算，拆分测序数据时，每份大小，默认90000000，必须是4的倍数\n",
    "+ `-D` 设置工作目录，里面需要包含`scripts/ references/ and restriction_sites/ `这些文件夹\n",
    "+ `-q` 设置比对时的队列，队列占用时间比较短\n",
    "+ `-L` 设置处理hic 文件时，长时间占用的队列\n",
    "+ `-S` 分阶段的跑\n",
    "    + \"merge\"\n",
    "    + \"dedup\"\n",
    "    + \"final\"\n",
    "    + \"postproc\"\n",
    "    + \"early\"\n",
    "\n",
    "```bash\n",
    "./scripts/juicer.sh -d /public/home/zpliu/HiCSoftware/juicer/test  -z /public/home/zpliu/HiCSoftware/juicer/references/hg19.fa -p /public/home/zpliu/HiCSoftware/juicer/chromsome.bed  -s none   -D /public/home/zpliu/HiCSoftware/juicer/ -q  q2680v2  -L q2680v2\n",
    "```\n"
   ]
  },
  {
   "cell_type": "markdown",
   "metadata": {},
   "source": [
    "### 4.报错\n",
    "`ModuleCmd_Load.c(213):ERROR:105: Unable to locate a modulefile for 'seq/bwa/0.7.8'`\n",
    "修改对应的脚本，与集群中bwa的版本对应即可\n",
    "```bash\n",
    "## 修改 script脚本中74行\n",
    "load_bwa=\"module load seq/bwa/0.7.8\"\n",
    "load_bwa=\"module load BWA/0.7.17\"\n",
    "```\n",
    "在脚本中module load 其他软件的时候同样检查一下\n",
    "```bash\n",
    "load_java=\"module load dev/java/jdk1.7\"\n",
    "load_cuda=\"module load dev/cuda/7.0.28\"\n",
    "```"
   ]
  },
  {
   "cell_type": "markdown",
   "metadata": {},
   "source": [
    "### 5.cpu版本\n",
    "适用于小样本数据\n",
    "> 将整个CPU目录建立为scripts软连接,类似集群版本的操作\n",
    "`\n",
    "```bash\n",
    "./scripts/juicer.sh -d /public/home/zpliu/HiCSoftware/juicer/test  -z /public/home/zpliu/HiCSoftware/juicer/references/hg19.fa -p /public/home/zpliu/HiCSoftware/juicer/chromsome.bed  -s none   -D /public/home/zpliu/HiCSoftware/juicer/ -t 5\n",
    "```"
   ]
  },
  {
   "cell_type": "markdown",
   "metadata": {},
   "source": [
    "### 6.输出结果\n",
    "在 `sample/aligned`目录下生成`.hic`文件\n",
    "\n",
    "对于中间文件可以使用`cleanup.sh`脚本进行删除\n",
    "```bash\n",
    ".\n",
    "    ├── abnormal.sam\n",
    "    ├── collisions_dups.txt\n",
    "    ├── collisions_nodups.txt\n",
    "    ├── collisions.txt\n",
    "    ├── dups.txt\n",
    "    ├── header\n",
    "    ├── inter_30_contact_domains\n",
    "    ├── inter_30.hic\n",
    "    ├── inter_30_hists.m\n",
    "    ├── inter_30.txt\n",
    "    ├── inter.hic\n",
    "    ├── inter_hists.m\n",
    "    ├── inter.txt\n",
    "    ├── merged_nodups.txt\n",
    "    ├── merged_sort.txt\n",
    "    ├── opt_dups.txt\n",
    "    └── unmapped.sam\n",
    "```"
   ]
  }
 ],
 "metadata": {
  "kernelspec": {
   "display_name": "Python 3",
   "language": "python",
   "name": "python3"
  },
  "language_info": {
   "codemirror_mode": {
    "name": "ipython",
    "version": 3
   },
   "file_extension": ".py",
   "mimetype": "text/x-python",
   "name": "python",
   "nbconvert_exporter": "python",
   "pygments_lexer": "ipython3",
   "version": "3.8.3"
  }
 },
 "nbformat": 4,
 "nbformat_minor": 4
}
