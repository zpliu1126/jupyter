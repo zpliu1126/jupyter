{
 "cells": [
  {
   "cell_type": "markdown",
   "metadata": {},
   "source": [
    "##  juicer-tools\n",
    "主要是对juicer处理后的`.hic`文件进行处理，使用其中的功能对TAD和染色质loop进行注释\n",
    "+ HiCCUPS\n",
    "+ HiCCUPS Diff\n",
    "+ Eigenvector\n"
   ]
  },
  {
   "cell_type": "markdown",
   "metadata": {},
   "source": [
    "### 1.具体参数\n",
    "CPU版本下，键入以下命令查看说明\n",
    "`java -Xms512m -Xmx2048m -jar scripts/common/juicer_tools.jar -h`"
   ]
  },
  {
   "cell_type": "markdown",
   "metadata": {},
   "source": [
    "#### 1.1[pre 子程序](https://github.com/aidenlab/juicer/wiki/Pre#usage)\n",
    " 将其他类型的文件处理后生成 .hic文件\n",
    " 使用作者给出的测试数据，处理后生成.hic文件，而`.hic`文件可以直接在图形化软件包`Juicerbox`实现可视化\n",
    " [test_data](https://github.com/aidenlab/juicer/wiki/data/test.txt.gz)\n",
    "```bash\n",
    "# 下载测试数据\n",
    "cd data\n",
    "wget -c https://github.com/aidenlab/juicer/wiki/data/test.txt.gz\n",
    "## 使用pre进行处理，生成hic文件\n",
    "java -Xms512m -Xmx2048m -jar scripts/common/juicer_tools.jar pre data/test.txt.gz data/test.hic hg19\n",
    "```\n",
    "##### 1.1.1输入文件格式说明\n",
    "常见文件以空格分隔\n",
    "> readname str1 chr1 pos1 frag1 str2 chr2 pos2 frag2 mapq1 mapq2\n",
    "    \n",
    "+ str = strand (0 for forward, anything else for reverse)\n",
    "+ chr = chromosome (must be a chromosome in the genome)\n",
    "+ pos = position\n",
    "+ frag = restriction site fragment\n",
    "+ mapq = mapping quality score\n",
    "+ cigar = cigar string as reported by aligner\n",
    "+ sequence = DNA sequence\n",
    "+ score = the score imputed to this read\n",
    "\n",
    "如果没有提供酶切信息，`frag`信息自动忽略，没有指定过滤阈值，`mapq`自动忽略，最后`.hic`文件中read名称和比对的链的信息不会存在"
   ]
  },
  {
   "cell_type": "markdown",
   "metadata": {},
   "source": [
    "#### 1.2 [dump子程序](https://github.com/aidenlab/juicer/wiki/Data-Extraction#usage)\n",
    "`dump`包含8个参数，主要用于从`.hic`文件中得到对应的稀释矩阵\n",
    "\n",
    "##### 1.2.1参数\n",
    "\n",
    "+ observed/oe 矩阵类型\n",
    "+ NONE/VC/VC_SQRT/KR 归一化方法\n",
    "+ .hic文件，可以接受多个，程序自动合并\n",
    "+ 第一个染色质编号 支持数字和x1 x2\n",
    "+ 第二个染色体编号\n",
    "+ 分辨率选择 BP/FRAG 基于碱基和基于酶切片段定义精度\n",
    "+ 分辨率大小，提供9种分辨率\n",
    "+ 可选参数 -v -d\n",
    "\n",
    "> BP, this is one of <2500000, 1000000, 500000, 250000, 100000, 50000, 25000, 10000, 5000>\n",
    "\n",
    "> FRAG this must be one of <500, 200, 100, 50, 20, 5, 2, 1>\n",
    "\n",
    "从`.hic`文件中获取交互矩阵\n",
    "```bash\n",
    "juicer_tools dump <observed/oe> <NONE/VC/VC_SQRT/KR> <hicFile(s)> <chr1>[:x1:x2] <chr2>[:y1:y2] <BP/FRAG> <binsize> [outfile]\n",
    "```\n",
    "例如获取chr1 与chr1 内部的Hi-C交互数据，精度在2.5Mb\n",
    "```bash\n",
    "java -jar scripts/common/juicer_tools.jar dump observed KR data/test.hic 1 1 BP 2500000 chr1.txt \n",
    "```\n",
    "输出chr1 染色体 data matrices 数据\n",
    "\n",
    "```bash\n",
    "0       0       1.8131434\n",
    "2500000 0       3.0028903\n",
    "5000000 0       1.2578616\n",
    "10000000        0       3.461795\n",
    "12500000        0       1.3383466\n",
    "15000000        0       0.957843\n",
    "```\n"
   ]
  },
  {
   "cell_type": "markdown",
   "metadata": {},
   "source": [
    "### 1.3功能注释\n",
    "对hic结果进行功能注释又细分为多个子程序，并且所有的脚本都是基于`.hic`文件进行的；当然没有`hic`文件的话，可以使用pre脚本从比对文件中提取得到对应的`hic`文件\n",
    "#### 1.3.1Arrowhead\n",
    "主要是用于找到染色质上的 交互区域，最终生成一个包含12列的文件\n",
    "\n",
    "基本用法\n",
    "```bash\n",
    "arrowhead [-c chromosome(s)] [-m matrix size] [-r resolution] [--threads num_threads]\n",
    "\t\t[-k normalization (NONE/VC/VC_SQRT/KR)] <HiC file> \n",
    "\t\t<output_file> [feature_list] [control_list]\n",
    "```\n",
    "+ hic文件，需要以`.hic`为后缀\n",
    "+ 输出文件可以直接在juicebox中进行可视化\n",
    "+ 提供loops/domains文件，将会计算对应的score\n",
    "+ 背景loops/domains文件\n",
    "+ -c 指定染色质 可以指定多个染色体 chr1,chr2\n",
    "+ -m 滑动窗口大小，用于搜索domains，必须为偶数\n",
    "+ -r 分辨率\n",
    "+ -k 归一化方式 <NONE/VC/VC_SQRT/KR>\n",
    "+ --threads 线程数"
   ]
  },
  {
   "cell_type": "markdown",
   "metadata": {},
   "source": [
    "#### 1.3.2 HiCCUPS\n",
    "用于找**chromatin loops**，并且在hi-c分析中，使用比较频繁的一个脚本。\n",
    "成功运行后，在输出文件夹中将会包含以下结果\n",
    "```bash\n",
    ".../outputDirectory/\n",
    ".../outputDirectory/merged_loops (the final looplist - this is likely what you'll use)\n",
    ".../outputDirectory/enriched_pixels_10000\n",
    ".../outputDirectory/enriched_pixels_5000 (contains raw enriched pixels from GPU)\n",
    ".../outputDirectory/fdr_thresholds_10000 \n",
    ".../outputDirectory/fdr_thresholds_5000 (threshold values used to calculate enrichment)\n",
    ".../outputDirectory/postprocessed_pixels_10000\n",
    ".../outputDirectory/postprocessed_pixels_5000 (clustered pixels for each resolution)\n",
    "```\n",
    "在不指定参数的情况下，软件会根据Hi-C的密度选择对应的两套参数，高精度和低精度的\n",
    "\n",
    "基本用法\n",
    "```bash\n",
    "hiccups [-m matrixSize] [-c chromosome(s)] [-r resolution(s)] [--threads num_threads]\n",
    "\t\t[-k normalization (NONE/VC/VC_SQRT/KR)] [-f fdr] \n",
    "\t\t[-p peak width] [-i window] [-t thresholds] \n",
    "\t\t[-d centroid distances] <HiC file> <outputDirectory> [specified_loop_list]\n",
    "```\n",
    "+ hic输入文件\n",
    "+ 输出文件夹\n",
    "+ 对应指定的一些loop，脚本会计算这些loops的富集程度，CPU版本的脚本，为了节约时间只会在对角线附近进行搜索\n",
    "+ `-m` 选择多大的矩阵传递给GPU，必须大于40的偶数，大小也受限与GPU型号\n",
    "+ `-c` 染色体\n",
    "+ `-r` 精度选择，可以同时指定多个精度\n",
    "+ `-k` 归一化方法\n",
    "+ `-f` FDR阈值，指定多个FDR，对应相应的精度\n",
    "+ `-p` 峰值enriched pixels\n",
    "+ `-i` window用于发现enriched pixels\n",
    "+ `-t` 合并不同精度下的loops 的阈值，e.g. 0.02,1.5,1.75,2\n",
    "+ `-d` 多大距离就进行合并\n",
    "+ `--threads` 线程数\n",
    "\n",
    "##### 实例\n",
    "```bash\n",
    "hiccups -m 500 -r 5000,10000 -f 0.1,0.1 -p 4,2 -i 7,5 -d 20000,20000 -c 22 HIC006.hic all_hiccups_loops\n",
    "```\n",
    "\n",
    "#### 1.3.3 低配 HiCCUPs\n",
    "仍旧处于实验阶段，最好使用GPU版本的HiCCUPS\n",
    "两个版本找出来的loops还是有些差别\n",
    "> Using the cohesin-degron maps from Rao et al. 2017, regular GPU-based HiCCUPS finds 3444 loops in the untreated megamap and 350 loops in the treated megamap. CPU-based HiCCUPS (and restricted GPU-based HiCCUPS) finds 3300 loops in the untreated megamap and 239 loops in the treated megamap.\n"
   ]
  },
  {
   "cell_type": "markdown",
   "metadata": {},
   "source": [
    "#### 1.3.4 HiCCUPSDiff\n",
    "从两个loops列表中找到不同的loops\n",
    "基本用法\n",
    "```bash\n",
    "hiccupsdiff \n",
    "[-m matrixSize]\n",
    "[-k normalization (NONE/VC/VC_SQRT/KR)]\n",
    "[-c chromosome(s)] \n",
    "[-f fdr] \n",
    "[-p peak width]\n",
    "[-i window] \n",
    "[-t thresholds] \n",
    "[-d centroid distances]\n",
    "<firstHicFile>\n",
    "<secondHicFile> \n",
    "<firstLoopList>\n",
    "<secondLoopList> <outputDirectory>\n",
    "```\n",
    "+ `firstHicFile ` 第一个hic文件\n",
    "+ `secondHicFile` 第二个hic文件\n",
    "+ `firstLoopList` HiCCUPS对第一个hic文件运行的结果\n",
    "+ `secondLoopList` HiCCUPS对第二个hic文件运行的结果"
   ]
  },
  {
   "cell_type": "markdown",
   "metadata": {},
   "source": [
    "#### 1.3.5Eigenvector\n",
    "用于从低精度的Hi-C数据中，区分compartments。并且eignvector是来自于皮尔逊相关矩阵中的 第一个主成分\n",
    "```bash\n",
    "# 将会以KR的归一化方法，计算一号染色体上1M精度的特征值，并且将结果输出在标准输出上\n",
    "java -jar juicer_tools.jar eigenvector KR HIC001.hic 1 BP 1000000\n",
    "```"
   ]
  },
  {
   "cell_type": "markdown",
   "metadata": {},
   "source": [
    "#### 1.3.6 Persons\n",
    "计算染色体内部的皮尔逊相关系数，当分辨率越高时，所花费的时间也随之增加\n",
    "```bash\n",
    "java -jar juicer_tools.jar pearsons KR HIC001.hic 1 BP 1000000\n",
    "```"
   ]
  },
  {
   "cell_type": "markdown",
   "metadata": {},
   "source": [
    "#### 1.3.7APA\n",
    "从交互矩阵中，计算峰的聚集程度。"
   ]
  },
  {
   "cell_type": "code",
   "execution_count": 35,
   "metadata": {},
   "outputs": [],
   "source": [
    "a=[[1,'Gbar_A01',16642,0,0,'Gbar_D07',13412949,0],[1, 'Gbar_A01', 18197, 0, 0, 'Gbar_A03', 105127189 ,0]]\n",
    "a.sort(key=lambda x:x[5])\n",
    "\n"
   ]
  },
  {
   "cell_type": "markdown",
   "metadata": {},
   "source": [
    "多线程读文件\n",
    "https://blog.csdn.net/onlyforr/article/details/52094581?utm_medium=distribute.pc_relevant.none-task-blog-BlogCommendFromMachineLearnPai2-2.nonecase&depth_1-utm_source=distribute.pc_relevant.none-task-blog-BlogCommendFromMachineLearnPai2-2.nonecase"
   ]
  },
  {
   "cell_type": "code",
   "execution_count": 158,
   "metadata": {},
   "outputs": [
    {
     "name": "stdout",
     "output_type": "stream",
     "text": [
      "1118\n"
     ]
    },
    {
     "data": {
      "text/plain": [
       "'\\n'"
      ]
     },
     "execution_count": 158,
     "metadata": {},
     "output_type": "execute_result"
    }
   ],
   "source": [
    "import sys\n",
    "fd=open(\"./111\",'r') #文件指针从0-1117\n",
    "fd.seek(1117)\n",
    "a=fd.read(1)\n",
    "print(fd.tell())\n",
    "a\n"
   ]
  },
  {
   "cell_type": "code",
   "execution_count": 147,
   "metadata": {},
   "outputs": [
    {
     "name": "stdout",
     "output_type": "stream",
     "text": [
      "3\n"
     ]
    }
   ],
   "source": [
    "def a(t):\n",
    "    print(t+1)\n",
    "    \n",
    "def b(t1,f1):\n",
    "    f1(t1)\n",
    "    \n",
    "b(2,a)\n",
    "    "
   ]
  },
  {
   "cell_type": "code",
   "execution_count": 169,
   "metadata": {},
   "outputs": [
    {
     "name": "stdout",
     "output_type": "stream",
     "text": [
      "dasd\thhhh\n"
     ]
    }
   ],
   "source": [
    "import threading\n",
    "class creatThread(threading.Thread):\n",
    "    def __init__(self,name,data):\n",
    "        threading.Thread.__init__(self)\n",
    "        self.name=name\n",
    "        self.data=data\n",
    "    def run(self):\n",
    "        print(self.name+\"\\t\"+self.data)\n",
    "mythread1=creatThread('dasd','hhhh')\n",
    "mythread1.start()"
   ]
  },
  {
   "cell_type": "code",
   "execution_count": null,
   "metadata": {},
   "outputs": [],
   "source": [
    "\n",
    "class myThread (threading.Thread):\n",
    "    def __init__(self, threadID, name, counter):\n",
    "        threading.Thread.__init__(self)\n",
    "        self.threadID = threadID\n",
    "        self.name = name\n",
    "        self.counter = counter\n",
    "    def run(self):\n",
    "        print (\"开始线程：\" + self.name)\n",
    "        print_time(self.name, self.counter, 5)\n",
    "        print (\"退出线程：\" + self.name)"
   ]
  },
  {
   "cell_type": "code",
   "execution_count": 201,
   "metadata": {},
   "outputs": [
    {
     "name": "stdout",
     "output_type": "stream",
     "text": [
      "进程1:开始运行了进程2:开始运行了进程3:开始运行了\n",
      "\n",
      "\n",
      "当前处理染色体:\ta\n",
      "1号进程完成任务分配...\n",
      "对染色体进行排序....\n",
      "当前处理染色体:\tb\n",
      "2号进程完成任务分配...\n",
      "对染色体进行排序....\n",
      "当前处理染色体:\tc\n",
      "3号进程完成任务分配...\n",
      "对染色体进行排序....\n",
      "进程2:w完成\n",
      "进程3:w完成\n",
      "进程1:w完成\n"
     ]
    }
   ],
   "source": [
    "import multiprocessing\n",
    "def extractData(data,id):\n",
    "    print(\"进程\"+str(id)+\":开始运行了\",end=\"\\n\")\n",
    "    return id\n",
    "def WriteFile(id):\n",
    "    print(\"进程\"+str(id)+\":w完成\",end=\"\\n\")\n",
    "\n",
    "p = multiprocessing.Pool()  # 设置进程池数目\n",
    "processId=1\n",
    "testData={'a':11,'b':222,'c':222}\n",
    "for key in testData.keys():\n",
    "    print(\"当前处理染色体:\\t\"+key)\n",
    "    p.apply_async(\n",
    "        extractData, (testData[key], processId), callback=WriteFile)\n",
    "    print(str(processId)+\"号进程完成任务分配...\\n对染色体进行排序....\")\n",
    "    processId += 1\n",
    "p.close()  # 不再接收进程,阻塞主进程\n",
    "p.join()  # 进程池运行结束后，进入主进程"
   ]
  },
  {
   "cell_type": "code",
   "execution_count": 212,
   "metadata": {},
   "outputs": [
    {
     "data": {
      "text/plain": [
       "4"
      ]
     },
     "execution_count": 212,
     "metadata": {},
     "output_type": "execute_result"
    }
   ],
   "source": [
    "a=[1,2,3,4]\n",
    "a[-1]"
   ]
  }
 ],
 "metadata": {
  "kernelspec": {
   "display_name": "Python 3",
   "language": "python",
   "name": "python3"
  },
  "language_info": {
   "codemirror_mode": {
    "name": "ipython",
    "version": 3
   },
   "file_extension": ".py",
   "mimetype": "text/x-python",
   "name": "python",
   "nbconvert_exporter": "python",
   "pygments_lexer": "ipython3",
   "version": "3.8.3"
  }
 },
 "nbformat": 4,
 "nbformat_minor": 4
}
