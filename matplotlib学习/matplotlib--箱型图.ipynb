{
 "cells": [
  {
   "cell_type": "markdown",
   "metadata": {},
   "source": [
    "### 箱型图\n",
    " \n",
    "> 官网Demo: https://matplotlib.org/api/_as_gen/matplotlib.axes.Axes.boxplot.html?highlight=boxplot#matplotlib.axes.Axes.boxplot\n",
    "\n",
    "+ `concatenate` 对多个数组进行拼接，默认按列进行拼接\n"
   ]
  },
  {
   "cell_type": "code",
   "execution_count": 3,
   "metadata": {},
   "outputs": [
    {
     "name": "stdout",
     "output_type": "stream",
     "text": [
      "[ 49.20918001  82.79738937  41.19872022  92.91315109  58.65212438\n",
      "  14.91181618   7.40651638  85.97761613  61.74750189  35.31280095\n",
      "  91.12641983  63.74259341  61.61065828  87.12075466  66.60624092\n",
      "  38.83833268  86.92878347  12.87540247  43.61570788  48.50033376\n",
      "  13.00512886  39.16467564  10.89773804  71.38861262  28.81144828\n",
      "  24.4721702   49.06274637  19.77826734  85.21991552  14.18423956\n",
      "  86.85804918   8.79525898   5.14827783  97.771949    55.31601467\n",
      "  16.2254994   60.75847503  68.21543733  40.95128909  34.82060769\n",
      "  38.89712459  30.11606127  18.45890956   8.90820464  80.82277617\n",
      "  23.17071455  89.20419254   6.54114268  81.81985563  60.3431646\n",
      "  50.          50.          50.          50.          50.\n",
      "  50.          50.          50.          50.          50.\n",
      "  50.          50.          50.          50.          50.\n",
      "  50.          50.          50.          50.          50.\n",
      "  50.          50.          50.          50.          50.\n",
      " 127.70384109 110.6931445  172.99274305 120.76794036 157.1400502\n",
      " 185.7487127  111.43923767 133.70333995 141.08845615 147.00469448\n",
      "  -3.17590256  -2.11030734 -39.69124019 -10.21041997 -34.5559116\n",
      " -29.82243446 -58.72433447 -49.43376577 -57.31951232 -62.34208037]\n"
     ]
    }
   ],
   "source": [
    "import numpy as np \n",
    "import matplotlib.pyplot as plt \n",
    "\n",
    "np.random.seed(20200805)\n",
    "\n",
    "spread = np.random.rand(50) * 100\n",
    "center = np.ones(25) * 50\n",
    "flier_high = np.random.rand(10) * 100 + 100\n",
    "flier_low = np.random.rand(10) * -100\n",
    "data = np.concatenate((spread, center, flier_high, flier_low),axis=0) ###拼接多个一维数组\n",
    "print(data) "
   ]
  },
  {
   "cell_type": "code",
   "execution_count": 20,
   "metadata": {},
   "outputs": [
    {
     "data": {
      "text/plain": [
       "Text(0.5, 1.0, 'BoxPlot with notch')"
      ]
     },
     "execution_count": 20,
     "metadata": {},
     "output_type": "execute_result"
    },
    {
     "data": {
      "image/png": "[encoded data removed]",
      "text/plain": [
       "<Figure size 720x360 with 2 Axes>"
      ]
     },
     "metadata": {
      "needs_background": "light"
     },
     "output_type": "display_data"
    }
   ],
   "source": [
    "fig,axs=plt.subplots(nrows=1,ncols=2,figsize=(10,5)) ##设置画布的比例\n",
    "axs[0].boxplot(data)\n",
    "axs[0].set_title('Basic BoxPlot',size=15,color='r') ##设置图片标题\n",
    "####添加槽口\n",
    "axs[1].boxplot(data,notch=True) ##添加槽口\n",
    "axs[1].set_title('BoxPlot with notch',size=15,color='r')"
   ]
  },
  {
   "cell_type": "markdown",
   "metadata": {},
   "source": [
    "#### 异常值的处理\n",
    "\n",
    "+ 修改遗传值的样式\n",
    "\n",
    "> 使用`dict`定义一系列的键值对\n",
    "\n",
    "  + 'markerfacecolor': 'g'\n",
    "  + 'marker': 'D', \n",
    "  + 'color': 'black', \n",
    "  + 'markeredgecolor': 'black', \n",
    "  + 'markersize': 6.0, \n",
    "  + 'linestyle': 'none',\n",
    "  + 'linewidth': 1.0\n",
    "  \n",
    "在`boxplot`函数中将样式字典赋值给`flierprops`参数\n",
    "\n",
    "+ 隐藏异常值\n",
    "\n",
    "在`boxplot`函数中将`showfliers=False`\n",
    " "
   ]
  },
  {
   "cell_type": "code",
   "execution_count": 32,
   "metadata": {},
   "outputs": [
    {
     "data": {
      "text/plain": [
       "Text(0.5, 1.0, 'hide outlier Point')"
      ]
     },
     "execution_count": 32,
     "metadata": {},
     "output_type": "execute_result"
    },
    {
     "data": {
      "image/png": "[encoded data removed]",
      "text/plain": [
       "<Figure size 720x360 with 2 Axes>"
      ]
     },
     "metadata": {
      "needs_background": "light"
     },
     "output_type": "display_data"
    }
   ],
   "source": [
    "####修改异常值样式 outliner symbols\n",
    "fig,axs=plt.subplots(nrows=1,ncols=2,figsize=(10,5)) ##设置画布的比例\n",
    "green_diamond = dict(markerfacecolor='b', marker='D')\n",
    "axs[0].boxplot(data,flierprops=green_diamond) ##修改异常值样式\n",
    "axs[0].set_title('change outer style',size=15,color='r') ##设置图片标题\n",
    "\n",
    "##隐藏异常值\n",
    "axs[1].boxplot(data,showfliers=False) ##隐藏异常值\n",
    "axs[1].set_title('hide outlier Point',size=15,color='r') ##设置图片标题"
   ]
  },
  {
   "cell_type": "markdown",
   "metadata": {},
   "source": [
    "#### 压缩胡须范围\n",
    "\n",
    "+ 使用`vert=False`设置水平排布\n",
    "+ 使用`whis=0.75`将胡须宽度压缩至初始的75%"
   ]
  },
  {
   "cell_type": "code",
   "execution_count": 37,
   "metadata": {},
   "outputs": [
    {
     "data": {
      "text/plain": [
       "Text(0.5, 1.0, 'scale whiser')"
      ]
     },
     "execution_count": 37,
     "metadata": {},
     "output_type": "execute_result"
    },
    {
     "data": {
      "image/png": "[encoded data removed]",
      "text/plain": [
       "<Figure size 720x360 with 2 Axes>"
      ]
     },
     "metadata": {
      "needs_background": "light"
     },
     "output_type": "display_data"
    }
   ],
   "source": [
    "fig,axs=plt.subplots(nrows=1,ncols=2,figsize=(10,5)) ##设置画布的比例\n",
    "axs[0].boxplot(data,vert=False) ##水平排列\n",
    "axs[0].set_title('Horizontal alignment',size=15,color='r') ##设置图片标题\n",
    "###缩短胡须\n",
    "axs[1].boxplot(data,vert=False,whis=0.75) ##水平排列,缩短胡须\n",
    "axs[1].set_title('scale whiser',size=15,color='r') ##设置图片标题"
   ]
  },
  {
   "cell_type": "markdown",
   "metadata": {},
   "source": [
    "### 分组箱型图\n",
    "\n",
    "当数据一个一维数组时，`boxplot`函数画出一个箱子，而当数据是一个二维数组时，`boxplot`将按照列向量进行分组，并且横坐标为数组索引+1"
   ]
  },
  {
   "cell_type": "code",
   "execution_count": 1,
   "metadata": {},
   "outputs": [
    {
     "ename": "NameError",
     "evalue": "name 'np' is not defined",
     "output_type": "error",
     "traceback": [
      "\u001b[1;31m---------------------------------------------------------------------------\u001b[0m",
      "\u001b[1;31mNameError\u001b[0m                                 Traceback (most recent call last)",
      "\u001b[1;32m<ipython-input-1-061401d2f0eb>\u001b[0m in \u001b[0;36m<module>\u001b[1;34m\u001b[0m\n\u001b[0;32m      1\u001b[0m \u001b[1;31m###第一个数据\u001b[0m\u001b[1;33m\u001b[0m\u001b[1;33m\u001b[0m\u001b[1;33m\u001b[0m\u001b[0m\n\u001b[1;32m----> 2\u001b[1;33m \u001b[0mspread\u001b[0m \u001b[1;33m=\u001b[0m \u001b[0mnp\u001b[0m\u001b[1;33m.\u001b[0m\u001b[0mrandom\u001b[0m\u001b[1;33m.\u001b[0m\u001b[0mrand\u001b[0m\u001b[1;33m(\u001b[0m\u001b[1;36m50\u001b[0m\u001b[1;33m)\u001b[0m \u001b[1;33m*\u001b[0m \u001b[1;36m100\u001b[0m\u001b[1;33m\u001b[0m\u001b[1;33m\u001b[0m\u001b[0m\n\u001b[0m\u001b[0;32m      3\u001b[0m \u001b[0mcenter\u001b[0m \u001b[1;33m=\u001b[0m \u001b[0mnp\u001b[0m\u001b[1;33m.\u001b[0m\u001b[0mones\u001b[0m\u001b[1;33m(\u001b[0m\u001b[1;36m25\u001b[0m\u001b[1;33m)\u001b[0m \u001b[1;33m*\u001b[0m \u001b[1;36m50\u001b[0m\u001b[1;33m\u001b[0m\u001b[1;33m\u001b[0m\u001b[0m\n\u001b[0;32m      4\u001b[0m \u001b[0mflier_high\u001b[0m \u001b[1;33m=\u001b[0m \u001b[0mnp\u001b[0m\u001b[1;33m.\u001b[0m\u001b[0mrandom\u001b[0m\u001b[1;33m.\u001b[0m\u001b[0mrand\u001b[0m\u001b[1;33m(\u001b[0m\u001b[1;36m10\u001b[0m\u001b[1;33m)\u001b[0m \u001b[1;33m*\u001b[0m \u001b[1;36m100\u001b[0m \u001b[1;33m+\u001b[0m \u001b[1;36m100\u001b[0m\u001b[1;33m\u001b[0m\u001b[1;33m\u001b[0m\u001b[0m\n\u001b[0;32m      5\u001b[0m \u001b[0mflier_low\u001b[0m \u001b[1;33m=\u001b[0m \u001b[0mnp\u001b[0m\u001b[1;33m.\u001b[0m\u001b[0mrandom\u001b[0m\u001b[1;33m.\u001b[0m\u001b[0mrand\u001b[0m\u001b[1;33m(\u001b[0m\u001b[1;36m10\u001b[0m\u001b[1;33m)\u001b[0m \u001b[1;33m*\u001b[0m \u001b[1;33m-\u001b[0m\u001b[1;36m100\u001b[0m\u001b[1;33m\u001b[0m\u001b[1;33m\u001b[0m\u001b[0m\n",
      "\u001b[1;31mNameError\u001b[0m: name 'np' is not defined"
     ]
    }
   ],
   "source": [
    "###第一个数据\n",
    "spread = np.random.rand(50) * 100\n",
    "center = np.ones(25) * 50\n",
    "flier_high = np.random.rand(10) * 100 + 100\n",
    "flier_low = np.random.rand(10) * -100\n",
    "data = np.concatenate((spread, center, flier_high, flier_low),axis=0) ###拼接多个一维数组\n",
    "###制作第二个数据\n",
    "spread = np.random.rand(50) * 100\n",
    "center = np.ones(25) * 40\n",
    "flier_high = np.random.rand(10) * 100 + 100\n",
    "flier_low = np.random.rand(10) * -100\n",
    "d2 = np.concatenate((spread, center, flier_high, flier_low))\n",
    "###二维数组\n",
    "data = [data, d2, d2[::2]]\n",
    "fig7, ax7 = plt.subplots()\n",
    "ax7.boxplot(data)\n",
    "ax7.set_title('Multiple Samples with Different sizes',size=15,color='r')\n"
   ]
  },
  {
   "cell_type": "markdown",
   "metadata": {},
   "source": [
    "### 美化Boxplot\n",
    "\n",
    "+ 修改柱子颜色\n",
    "\n",
    "首先在`boxplot`函数中允许自定义颜色` patch_artist=True`；再调用boxplot的`patch`对象修改柱子颜色，传递给`patch`对象对应的颜色\n",
    "\n",
    "+ 修改柱子的横坐标\n",
    "\n",
    "直接在`boxplot`函数中赋值给`labels`属性\n",
    "\n"
   ]
  },
  {
   "cell_type": "code",
   "execution_count": 10,
   "metadata": {},
   "outputs": [
    {
     "data": {
      "image/png": "[encoded data removed]",
      "text/plain": [
       "<Figure size 648x288 with 2 Axes>"
      ]
     },
     "metadata": {
      "needs_background": "light"
     },
     "output_type": "display_data"
    }
   ],
   "source": [
    "import matplotlib.pyplot as plt\n",
    "import numpy as np\n",
    "# 获取随机数据\n",
    "np.random.seed(19680801)\n",
    "all_data = [np.random.normal(0, std, size=100) for std in range(1, 4)]\n",
    "labels = ['x1', 'x2', 'x3']   ##柱子横坐标\n",
    "\n",
    "fig, (ax1, ax2) = plt.subplots(nrows=1, ncols=2, figsize=(9, 4))\n",
    "\n",
    "\n",
    "#长方形，默认没有notch\n",
    "bplot1 = ax1.boxplot(all_data,\n",
    "                     vert=True,  # vertical box alignment\n",
    "                     patch_artist=True,  # fill with color\n",
    "                     labels=labels)  # will be used to label x-ticks\n",
    "ax1.set_title('Rectangular box plot')\n",
    "\n",
    "# 添加槽口\n",
    "bplot2 = ax2.boxplot(all_data,\n",
    "                     notch=True,  # notch shape\n",
    "                     vert=True,  # vertical box alignment\n",
    "                     patch_artist=True,  # fill with color\n",
    "                     labels=labels)  # will be used to label x-ticks\n",
    "ax2.set_title('Notched box plot')\n",
    "\n",
    "###遍历每个箱子对象\n",
    "colors = ['pink', 'lightblue', 'lightgreen']  ##定义柱子颜色、和柱子数目一致\n",
    "for patch,color in zip(bplot1['boxes'],colors): ##zip快速取出两个长度相同的数组对应的索引值\n",
    "    patch.set_facecolor(color)   ##每个箱子设置对应的颜色\n",
    "    \n",
    "    \n",
    "for patch,color in zip(bplot2['boxes'],colors): ##zip快速取出两个长度相同的数组对应的索引值\n",
    "    patch.set_facecolor(color)   ##每个箱子设置对应的颜色"
   ]
  }
 ],
 "metadata": {
  "kernelspec": {
   "display_name": "Python 3",
   "language": "python",
   "name": "python3"
  },
  "language_info": {
   "codemirror_mode": {
    "name": "ipython",
    "version": 3
   },
   "file_extension": ".py",
   "mimetype": "text/x-python",
   "name": "python",
   "nbconvert_exporter": "python",
   "pygments_lexer": "ipython3",
   "version": "3.7.4"
  }
 },
 "nbformat": 4,
 "nbformat_minor": 2
}
