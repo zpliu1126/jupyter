{
 "cells": [
  {
   "cell_type": "markdown",
   "metadata": {},
   "source": [
    "# matplotlib入门"
   ]
  },
  {
   "cell_type": "markdown",
   "metadata": {},
   "source": [
    "官网网页\n",
    "https://matplotlib.org/"
   ]
  },
  {
   "cell_type": "markdown",
   "metadata": {},
   "source": [
    "### 安装\n",
    "- 使用`pip`安装\n",
    "\n",
    "```bash\n",
    "    python -m pip install -U pip\n",
    "    python -m pip install -U matplotlib\n",
    "```\n"
   ]
  },
  {
   "cell_type": "code",
   "execution_count": 1,
   "metadata": {},
   "outputs": [],
   "source": [
    "#pip install matplotlib --user\n",
    "#引入matplotlib包\n",
    "import matplotlib.pyplot as plt\n",
    "import numpy as np"
   ]
  },
  {
   "cell_type": "code",
   "execution_count": 2,
   "metadata": {},
   "outputs": [
    {
     "data": {
      "text/plain": [
       "[<matplotlib.lines.Line2D at 0x1fc31990388>]"
      ]
     },
     "execution_count": 2,
     "metadata": {},
     "output_type": "execute_result"
    },
    {
     "data": {
      "image/png": "[encoded data removed]",
      "text/plain": [
       "<Figure size 432x288 with 1 Axes>"
      ]
     },
     "metadata": {
      "needs_background": "light"
     },
     "output_type": "display_data"
    }
   ],
   "source": [
    "fig, ax = plt.subplots()  # Create a figure containing a single axes.\n",
    "ax.plot([1, 2, 3, 4], [1, 4, 2, 3])  # Plot some data on the axes."
   ]
  },
  {
   "cell_type": "markdown",
   "metadata": {},
   "source": [
    "`plt.subplots()`函数返回两个对象\n",
    "+ fig 图形对象\n",
    "+ ax 坐标轴对象\n",
    "当然如果不需要操作坐标轴的话，也可以直接使用`plot`函数\n",
    "```python\n",
    "plt.plot([2,3,5,6],[2,4,5,6])```"
   ]
  },
  {
   "cell_type": "code",
   "execution_count": null,
   "metadata": {},
   "outputs": [],
   "source": [
    "plt.plot([2,3,5,6],[2,4,5,6]) #直接使用plot函数"
   ]
  },
  {
   "cell_type": "markdown",
   "metadata": {},
   "source": [
    "#### 更加深入的理解图片的构造\n",
    "![figure图片构造](https://matplotlib.org/_images/anatomy.png)\n"
   ]
  },
  {
   "cell_type": "code",
   "execution_count": 8,
   "metadata": {},
   "outputs": [
    {
     "data": {
      "text/plain": [
       "<Figure size 432x288 with 0 Axes>"
      ]
     },
     "metadata": {},
     "output_type": "display_data"
    }
   ],
   "source": [
    "figure=plt.figure() ##没有坐标轴的空白图片,啥也看不到"
   ]
  },
  {
   "cell_type": "code",
   "execution_count": 13,
   "metadata": {},
   "outputs": [
    {
     "data": {
      "image/png": "[encoded data removed]",
      "text/plain": [
       "<Figure size 432x288 with 1 Axes>"
      ]
     },
     "metadata": {
      "needs_background": "light"
     },
     "output_type": "display_data"
    }
   ],
   "source": [
    "fig,ax=plt.subplots() ##带坐标轴的空白图片,只有单个坐标轴"
   ]
  },
  {
   "cell_type": "code",
   "execution_count": 15,
   "metadata": {},
   "outputs": [
    {
     "data": {
      "image/png": "[encoded data removed]",
      "text/plain": [
       "<Figure size 432x288 with 4 Axes>"
      ]
     },
     "metadata": {
      "needs_background": "light"
     },
     "output_type": "display_data"
    }
   ],
   "source": [
    "fig,axs=plt.subplots(2,2) ##2x2的四坐标轴图片"
   ]
  },
  {
   "cell_type": "markdown",
   "metadata": {},
   "source": [
    "## Axes对象\n",
    "+ 通常Axes就是包含data的一个图片\n",
    "+ 一张figure可以有多个Axes\n",
    "+ 而一个Axes只属于某一个figure\n",
    "+ Axes包含有两个或者3个Axis（坐标轴）\n",
    "+ Axes类似于ggplot分面中的一个分面\n",
    "\n",
    "对坐标轴中显示数据范围的控制\n",
    "```python\n",
    "axes.Axes.set_xlim() ##控制X轴显示范围\n",
    "axes.Axes.set_ylim() ##控制y轴显示范围\n",
    "```\n",
    "控制坐标轴标签与图形标签\n",
    "```python\n",
    "axes.Axes.set_title() ##图片标签\n",
    "axes.Axes.set_xlabel() ##x轴标签\n",
    "axes.Axes.set_ylabel() ##y轴标签\n",
    "```\n",
    "控制图例名称和显示图例\n",
    "```python\n",
    "axes.plot(data,label=\"图例名\")\n",
    "axes.legend()\n",
    "\n",
    "```"
   ]
  },
  {
   "cell_type": "code",
   "execution_count": null,
   "metadata": {},
   "outputs": [],
   "source": [
    "import matplotlib\n",
    "import matplotlib.pyplot as plt\n",
    "matplotlib.use('qt5agg')\n",
    "fig,axs=plt.subplots(2,1) ## 绘制2X1 图片\n",
    "axs[0].plot([1,2,3,4],[4,5,6,7],label=\"liner1\") #第一张图，以及图例\n",
    "axs[0].plot([2,4,5,6],[4,5,6,7],label=\"liner2\") #第一张图，以及图例\n",
    "axs[1].plot([1,6,7,8],[5,6,7,8],label=\"test\") # 第二张图 以及图例\n",
    "for item in axs:   #批量设置标题 和图例\n",
    "    item.set_xlim(0,10)\n",
    "    item.set_xlabel('x label')\n",
    "    item.set_ylabel('y label')\n",
    "    item.set_title('test')\n",
    "    item.legend()\n",
    "plt.savefig(\"test.png\")"
   ]
  },
  {
   "cell_type": "markdown",
   "metadata": {},
   "source": [
    "# Axis对象\n",
    "+ 用于设置坐标轴范围\n",
    "+ 控制坐标轴上显示的标记，` Locator`对象\n",
    "+ 控制坐标轴上显示的字符 `Formatter`对象"
   ]
  },
  {
   "cell_type": "markdown",
   "metadata": {},
   "source": [
    "# Artist\n",
    "基本上所有的figure都会用到Artist对象，并且Artist是与Axes对象绑定在一起使用的。Artist对象就包含以下几个对象\n",
    "+ Text\n",
    "+ Line2D\n",
    "+ collection\n",
    "+ Patch\n",
    "\n",
    "# 输入数据格式\n",
    "所有的绘图数据都是基于`numpy.array`类型进行的，当然有些类似array的数据类型，例如`pandas`中的dataFrame,`numpy`中的matrix;这些数据类型作为输入数据时，可能不能够正常的工作，所有还是将它们转换成`numpy.array`之后再绘制图片吧\n",
    "\n",
    "+ ####  将panda 数据框转换\n",
    "```python\n",
    "import numpy as np\n",
    "import pandas\n",
    "a=pandas.DataFrame(np.random.rand(4,5), columns = list('abcde')) ##获取4x5的随机数据框\n",
    "print(a)\n",
    "          a         b         c         d         e\n",
    "0  0.505938  0.742418  0.732312  0.008823  0.559201\n",
    "1  0.834437  0.657429  0.136503  0.654495  0.841873\n",
    "2  0.725788  0.746307  0.240214  0.732954  0.119796\n",
    "3  0.452142  0.172521  0.103506  0.472862  0.744575\n",
    "a_array=a.values\n",
    "print(a) ##看起来没变化，实质上一个是数据框，一个是数组\n",
    "          a         b         c         d         e\n",
    "0  0.505938  0.742418  0.732312  0.008823  0.559201\n",
    "1  0.834437  0.657429  0.136503  0.654495  0.841873\n",
    "2  0.725788  0.746307  0.240214  0.732954  0.119796\n",
    "3  0.452142  0.172521  0.103506  0.472862  0.744575\n",
    "```\n",
    "+ #### 将numpy.matrix转换\n",
    "```python\n",
    "import numpy as np\n",
    "b = np.matrix([[1, 2], [3, 4]])\n",
    "print(b)\n",
    "[[1 2]\n",
    " [3 4]]\n",
    "b_asarray = np.asarray(b)\n",
    "print(b)\n",
    "[[1 2]\n",
    " [3 4]]\n",
    "```\n"
   ]
  },
  {
   "cell_type": "markdown",
   "metadata": {},
   "source": [
    "# pyplot两种绘图方式\n",
    "\n",
    "+ #### 面向对象的方式\n",
    "这种在写脚本的时候，可以封装成函数，在不修改代码的情况下，仅仅改变数据就可以获得不同的图片。用的比较多；不涉及与用户的交互\n",
    "\n",
    "```python\n",
    "    import matplotlib.pyplot as plt\n",
    "    x=np.linspace(0, 2, 100)\n",
    "    fig,ax=plt.subplots()\n",
    "    ax.plot(x,x,label='liner')\n",
    "    ax.legend()\n",
    "```\n",
    "+ #### 直接调用pyplot方法\n",
    "这个有点类似ggplot2，在jupyter中用的频繁。不过个人还是比较喜欢用第一种面向对象的方式，毕竟对象嘛..\n",
    "\n",
    "```python\n",
    "    import matplotlib.pyplot as plt\n",
    "    x=np.linspace(0, 2, 100)\n",
    "    plt.plot(x,x,label=\"liner\")\n",
    "    plt.legend()\n",
    "```\n",
    "+ #### 还有[第三种](https://matplotlib.org/tutorials/introductory/usage.html#the-object-oriented-interface-and-the-pyplot-interface)，之后遇到在看吧\n",
    "\n",
    "\n"
   ]
  },
  {
   "cell_type": "markdown",
   "metadata": {},
   "source": [
    "# 如何导出图片\n",
    "文档里用了一个词`BacKends`，意思就是针对不同的需求，导出不同类型的图片\n",
    "\n",
    "+ #### AGG 支持png\n",
    "+ #### PS 支持ps、eps\n",
    "+ #### PDF 支持pdf\n",
    "+ #### SVG 支持svg\n",
    "+ #### Cairo 支持png ps pdf svg\n",
    "\n",
    "#### 配置\n",
    "一般来说不用配置，能够根据系统自动检测，\n",
    "linux中配置一下环境变量即可\n",
    "```bash\n",
    "$ export MPLBACKEND=qt5agg\n",
    "$ python simple_plot.py\n",
    "##或者\n",
    "$ MPLBACKEND=qt5agg python simple_plot.py\n",
    "```\n",
    "在脚本内部配置\n",
    "```python\n",
    "import matplotlib\n",
    "matplotlib.use('qt5agg')\n",
    "##导出图片\n",
    "matplotlib.pyplot.savefig('filename')\n",
    "```\n",
    "\n"
   ]
  }
 ],
 "metadata": {
  "kernelspec": {
   "display_name": "Python 3",
   "language": "python",
   "name": "python3"
  },
  "language_info": {
   "codemirror_mode": {
    "name": "ipython",
    "version": 3
   },
   "file_extension": ".py",
   "mimetype": "text/x-python",
   "name": "python",
   "nbconvert_exporter": "python",
   "pygments_lexer": "ipython3",
   "version": "3.7.4"
  },
  "widgets": {
   "application/vnd.jupyter.widget-state+json": {
    "state": {},
    "version_major": 2,
    "version_minor": 0
   }
  }
 },
 "nbformat": 4,
 "nbformat_minor": 4
}
