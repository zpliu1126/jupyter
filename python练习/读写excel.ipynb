{
 "cells": [
  {
   "cell_type": "markdown",
   "metadata": {},
   "source": [
    "> 标准的excel文件，路径`~/lib_family/primer.xlsx`\n"
   ]
  },
  {
   "cell_type": "code",
   "execution_count": 4,
   "metadata": {},
   "outputs": [
    {
     "name": "stdout",
     "output_type": "stream",
     "text": [
      "/public/home/zpliu\n",
      "Ghir_A06G005090\n",
      "13675\t26\n"
     ]
    },
    {
     "name": "stderr",
     "output_type": "stream",
     "text": [
      "<ipython-input-4-d603c4911c20>:6: DeprecationWarning: Call to deprecated function get_sheet_by_name (Use wb[sheetname]).\n",
      "  sheet1 = wb.get_sheet_by_name('Sheet1')\n"
     ]
    }
   ],
   "source": [
    "import openpyxl\n",
    "import os\n",
    "print(os.getcwd())\n",
    "wb = openpyxl.load_workbook('/public/home/zpliu/lib_family/primer.xlsx')\n",
    "sheets = wb.sheetnames\n",
    "sheet1 = wb.get_sheet_by_name('Sheet1')\n",
    "##查看某一个cell\n",
    "print(str(sheet1['H1848'].value).strip('[\\n;:]'))\n",
    "###查看行|列数\n",
    "print('{}\\t{}'.format(sheet1.max_row,sheet1.max_column))"
   ]
  },
  {
   "cell_type": "code",
   "execution_count": 5,
   "metadata": {},
   "outputs": [],
   "source": [
    "row_range=sheet1[1:13675]\n",
    "with open('primer.txt','w') as File:\n",
    "    for row in row_range:\n",
    "        for cell in row:\n",
    "           File.write('{};'.format(str(cell.value).strip('[,;:*\\n]')))   ##去除每个cell中的特殊字符和换行符\n",
    "        File.write(\"\\n\")"
   ]
  },
  {
   "cell_type": "markdown",
   "metadata": {},
   "source": [
    "#### 转化成csv文件后，用awk提取想要的信息\n",
    "\n",
    "```bash\n",
    "cut -f1-3,7-13,15,18,21 -d\",\" primer.txt\n",
    "##整合一下,最终的命令\n",
    "\n",
    "sed 's/,//g' primer.txt |cut -f1-3,7-13,15,18,21 -d\";\"|awk -F \";\" '$2!~/None/{print $2,$3,$4\"|\"$5,$6,$7,length($7),$10,$11,$12,$13}$2~/None/{print $1,$3,$4\"|\"$5,$6,$7,length($7),$10,$11,$12,$13}' OFS=\",\"|less\n",
    "```"
   ]
  }
 ],
 "metadata": {
  "kernelspec": {
   "display_name": "Python 3",
   "language": "python",
   "name": "python3"
  },
  "language_info": {
   "codemirror_mode": {
    "name": "ipython",
    "version": 3
   },
   "file_extension": ".py",
   "mimetype": "text/x-python",
   "name": "python",
   "nbconvert_exporter": "python",
   "pygments_lexer": "ipython3",
   "version": "3.8.5"
  }
 },
 "nbformat": 4,
 "nbformat_minor": 4
}
