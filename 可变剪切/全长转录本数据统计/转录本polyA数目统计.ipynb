{
 "cells": [
  {
   "cell_type": "markdown",
   "metadata": {},
   "source": [
    "### ployAdentlation motif的结果不太好；太多的转录本没有检查到motif"
   ]
  },
  {
   "cell_type": "code",
   "execution_count": 1,
   "metadata": {},
   "outputs": [
    {
     "name": "stdout",
     "output_type": "stream",
     "text": [
      "Using matplotlib backend: TkAgg\n",
      "Populating the interactive namespace from numpy and matplotlib\n"
     ]
    }
   ],
   "source": [
    "import matplotlib\n",
    "import matplotlib.pyplot as plt\n",
    "import numpy as np\n",
    "%pylab\n",
    "def getrawData(fileName,limit):\n",
    "    '''\n",
    "    count\\tgeneId\n",
    "    '''\n",
    "    out=[]\n",
    "    with open(fileName,'r') as File:\n",
    "        for line in  File.readlines():\n",
    "            if int(line.split(\"\\t\")[0])>=limit:\n",
    "                out.append(limit)\n",
    "            else:\n",
    "                out.append(int(line.split(\"\\t\")[0]))\n",
    "    return out\n",
    "\n",
    "A2Data=getrawData('C:/Users/PC/Desktop/数据分析/原始数据统计/全长转录本的统计/polyA统计/A2polyAstatic.txt',10)\n",
    "D5Data=getrawData('C:/Users/PC/Desktop/数据分析/原始数据统计/全长转录本的统计/polyA统计/D5polyAstatic.txt',\n",
    "10)\n",
    "TM1Data=getrawData('C:/Users/PC/Desktop/数据分析/原始数据统计/全长转录本的统计/polyA统计/TM1polyAstatic.txt',\n",
    "10)\n",
    "\n",
    "\n",
    "def plotHist(Axe,plotData,title):\n",
    "    n, bins, patches = Axe.hist(plotData, \n",
    "                            bins=np.arange(1,11+1)-0.5, ##调整bar的位置\n",
    "                            histtype='bar',\n",
    "                            align='mid',\n",
    "                            rwidth=[0.8,0.8,0.8,0.80,0.8,0.8,0.8,0.8,0.8,0.8],\n",
    "                            )  ##频数直方图\n",
    "    Axe.set_xticks(np.arange(0,11,1))\n",
    "    Axe.set_xticklabels([0, 1, 2, 3, 4, 5, 6, 7, 8, 9,r'>10']) ##修改刻度值\n",
    "    Axe.set_title(title)\n",
    "##绘图函数\n",
    "#plt.style.use('ggplot')\n",
    "fig, ax = plt.subplots(2,2)\n",
    "plotHist(ax[0,0],A2Data,'A2')\n",
    "plotHist(ax[0,1],D5Data,'D5')\n",
    "plotHist(ax[1,0],TM1Data,'TM1')\n",
    "\n",
    "##生成分组的直方图\n",
    "\n",
    "\n",
    "\n"
   ]
  },
  {
   "cell_type": "code",
   "execution_count": null,
   "metadata": {},
   "outputs": [],
   "source": []
  },
  {
   "cell_type": "code",
   "execution_count": null,
   "metadata": {},
   "outputs": [],
   "source": []
  },
  {
   "cell_type": "code",
   "execution_count": null,
   "metadata": {},
   "outputs": [],
   "source": []
  }
 ],
 "metadata": {
  "kernelspec": {
   "display_name": "Python 3",
   "language": "python",
   "name": "python3"
  },
  "language_info": {
   "codemirror_mode": {
    "name": "ipython",
    "version": 3
   },
   "file_extension": ".py",
   "mimetype": "text/x-python",
   "name": "python",
   "nbconvert_exporter": "python",
   "pygments_lexer": "ipython3",
   "version": "3.7.4"
  }
 },
 "nbformat": 4,
 "nbformat_minor": 4
}
