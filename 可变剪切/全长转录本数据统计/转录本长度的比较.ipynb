{
 "cells": [
  {
   "cell_type": "code",
   "execution_count": 6,
   "metadata": {},
   "outputs": [
    {
     "name": "stderr",
     "output_type": "stream",
     "text": [
      "c:\\users\\pc\\appdata\\local\\programs\\python\\python37\\lib\\site-packages\\numpy\\core\\_asarray.py:83: VisibleDeprecationWarning: Creating an ndarray from ragged nested sequences (which is a list-or-tuple of lists-or-tuples-or ndarrays with different lengths or shapes) is deprecated. If you meant to do this, you must specify 'dtype=object' when creating the ndarray\n",
      "  return array(a, dtype, copy=False, order=order)\n"
     ]
    },
    {
     "data": {
      "text/plain": [
       "(-772.0500000000001, 6000.0)"
      ]
     },
     "execution_count": 6,
     "metadata": {},
     "output_type": "execute_result"
    },
    {
     "data": {
      "image/png": "[encoded data removed]",
      "text/plain": [
       "<Figure size 432x288 with 1 Axes>"
      ]
     },
     "metadata": {
      "needs_background": "light"
     },
     "output_type": "display_data"
    }
   ],
   "source": [
    "import numpy as np \n",
    "import matplotlib.pyplot as plt \n",
    "def getisoformLengtArray(file):\n",
    "    with open(file,'r') as File:\n",
    "        tmp=[]\n",
    "        for line in File.readlines():\n",
    "            tmp.append(line.split(\"\\t\")[0])\n",
    "        \n",
    "        return [int(i) for i in tmp]\n",
    "            \n",
    "TM1reference=getisoformLengtArray('C:/Users/PC/Desktop/数据分析/原始数据统计/全长转录本的统计/转录本长度的比较/TM-1_isform_length.txt')\n",
    "TM1PacBio=getisoformLengtArray('C:/Users/PC/Desktop/数据分析/原始数据统计/全长转录本的统计/转录本长度的比较/TM1_PacBiolength.txt')\n",
    "plotdata=[TM1reference,TM1PacBio]\n",
    "fig7, ax7 = plt.subplots()\n",
    "ax7.boxplot(plotdata)\n",
    "ax7.set_ylim(ymax=6000)"
   ]
  },
  {
   "cell_type": "code",
   "execution_count": null,
   "metadata": {},
   "outputs": [],
   "source": []
  }
 ],
 "metadata": {
  "kernelspec": {
   "display_name": "Python 3",
   "language": "python",
   "name": "python3"
  },
  "language_info": {
   "codemirror_mode": {
    "name": "ipython",
    "version": 3
   },
   "file_extension": ".py",
   "mimetype": "text/x-python",
   "name": "python",
   "nbconvert_exporter": "python",
   "pygments_lexer": "ipython3",
   "version": "3.7.4"
  }
 },
 "nbformat": 4,
 "nbformat_minor": 4
}
