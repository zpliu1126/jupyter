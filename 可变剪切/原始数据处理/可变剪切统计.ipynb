{
 "cells": [
  {
   "cell_type": "markdown",
   "metadata": {},
   "source": [
    "### 绘制基因和AS的比例饼状图\n"
   ]
  },
  {
   "cell_type": "code",
   "execution_count": 5,
   "metadata": {},
   "outputs": [
    {
     "data": {
      "image/png": "[encoded data removed]",
      "text/plain": [
       "<Figure size 432x432 with 2 Axes>"
      ]
     },
     "metadata": {
      "needs_background": "light"
     },
     "output_type": "display_data"
    }
   ],
   "source": [
    "import numpy as np\n",
    "import matplotlib.pyplot as plt\n",
    "\n",
    "##画两张饼状图\n",
    "fig, ax = plt.subplots(nrows=2,figsize=(6, 6), subplot_kw=dict(aspect=\"equal\"))\n",
    "AsEvent=[\n",
    "    '6953 RI',\n",
    "    '2135 SE',\n",
    "    '1448 A5SS',\n",
    "    '2489 A3SS',\n",
    "    '54 MXE'\n",
    "    \n",
    "    \n",
    "]\n",
    "geneEvent=[\n",
    "    \n",
    "]"
   ]
  }
 ],
 "metadata": {
  "kernelspec": {
   "display_name": "Python 3",
   "language": "python",
   "name": "python3"
  },
  "language_info": {
   "codemirror_mode": {
    "name": "ipython",
    "version": 3
   },
   "file_extension": ".py",
   "mimetype": "text/x-python",
   "name": "python",
   "nbconvert_exporter": "python",
   "pygments_lexer": "ipython3",
   "version": "3.7.4"
  }
 },
 "nbformat": 4,
 "nbformat_minor": 4
}
