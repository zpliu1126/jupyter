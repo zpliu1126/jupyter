{
 "cells": [
  {
   "cell_type": "code",
   "execution_count": 13,
   "metadata": {},
   "outputs": [
    {
     "data": {
      "image/png": "[encoded data removed]",
      "text/plain": [
       "<Figure size 432x288 with 1 Axes>"
      ]
     },
     "metadata": {
      "needs_background": "light"
     },
     "output_type": "display_data"
    }
   ],
   "source": [
    "'''\n",
    "测试数据\n",
    "\n",
    "转录本数目：5\n",
    "geneName： Top1\n",
    "基因范围: 1000-3000\n",
    "\n",
    "\n",
    "'''\n",
    "\n",
    "import numpy  as np\n",
    "import matplotlib.patches as mpatches\n",
    "import matplotlib.pyplot as plt\n",
    "import matplotlib.lines as lines\n",
    "\n",
    "\n",
    "fig=plt.figure(1)\n",
    "arr='->'  ##正链标志\n",
    "\n",
    "ax=fig.add_axes([0.1,0.1,0.8,0.8]) ##指定绘图区域，第一个为左上角起始位置，第二个为左下角起始位置，第三位图片宽度，第四个为图片高度\n",
    "\n",
    "####绘制箭头\n",
    "arrow=mpatches.FancyArrowPatch(\n",
    "(0,0.1), ##起始位置坐标\n",
    "(1,0.1), ##终止位置坐标\n",
    "arrowstyle=arr,\n",
    "mutation_scale=20, ##箭头缩放比例\n",
    "lw=1, \n",
    "color='b',\n",
    "antialiased=True\n",
    ")\n",
    "ax.add_patch(arrow)\n",
    "\n",
    "#######绘制坐标轴标签和刻度线#########\n",
    "\n",
    "###提取基因坐标，从而设置X轴的取值范围\n",
    "\n",
    "ax.set_xlim([0,4000])\n",
    "\n",
    "###根据转录本的数目这种y轴范围\n",
    "\n",
    "ax.set_ylim([-0.5,5+1])\n",
    "\n",
    "##使用np，固定显示的刻度label数目\n",
    "ax.set_xticks(np.linspace(0,4000,6))\n",
    "##y轴显示转录本名称，并且隐藏刻度，名称放在箭头的另外一边\n",
    "\n",
    "###控制坐标轴是否显示, spines 骨脊\n",
    "ax.spines['top'].set_visible(False)\n",
    "ax.spines['left'].set_visible(False)\n",
    "ax.spines['right'].set_visible(False)\n",
    "##控制刻度以及label显示在哪一边\n",
    "ax.get_yaxis().tick_right()  \n",
    "ax.get_xaxis().tick_bottom()\n",
    "##隐藏y轴刻度只显示label，x轴则显示刻度并且朝外\n",
    "ax.tick_params(axis=u'y', which=u'both',length=0)\n",
    "ax.tick_params(axis=u'y', which=u'both',direction='out')\n",
    "\n",
    "\n",
    "######坐标轴画好后，开始绘制转录本##########\n",
    "\n",
    "\n",
    "####首先绘制转录本长度线\n",
    "###y轴用转录本的索引表示,第二个转录本\n",
    "number=0\n",
    "transcript2=[(1500,3600),(number,number)]\n",
    "(line_start,line_end)=zip(*transcript2)  ##获取x轴范围与y轴范围的元组\n",
    "\n",
    "arrow=mpatches.FancyArrowPatch(\n",
    "    line_start, ##起始位置\n",
    "    line_end,  ##终止位置\n",
    "    arrowstyle=arr,\n",
    "    mutation_scale=20, ##箭头缩放比例\n",
    "    lw=1, \n",
    "    color='b',\n",
    "    antialiased=True\n",
    ")\n",
    "ax.add_patch(arrow)\n",
    "\n",
    "\n",
    "#####绘制各种注释元件######\n",
    "####同样是line2D对应，只不过元件的高度固定为5\n",
    "element_width=5\n",
    "element1=[(1700,number),(1600,number)] ##第一个外显子\n",
    "element2=[(2000,number),(2450,number)] ##第二个外显子\n",
    "(linex,liney)=zip(*element1)\n",
    "ax.add_line(lines.Line2D(\n",
    "    linex, ##x轴显示范围\n",
    "    liney,  ##y轴显示范围\n",
    "    linewidth=element_width,\n",
    "    solid_capstyle = 'butt', \n",
    "    solid_joinstyle='miter',\n",
    "    antialiased=False,\n",
    "    color='red'))\n",
    "(linex,liney)=zip(*element2)\n",
    "ax.add_line(lines.Line2D(\n",
    "    linex, ##x轴显示范围\n",
    "    liney,  ##y轴显示范围\n",
    "    linewidth=element_width,\n",
    "    solid_capstyle = 'butt', \n",
    "    solid_joinstyle='miter',\n",
    "    antialiased=False,\n",
    "    color='red'))\n",
    "\n",
    "###添加图例信息\n",
    "#ax_legend = fig.add_axes([0.76,0.2,0.2,0.6])\n",
    "###保存图片信息\n",
    "fig.savefig('test.pdf',dpi=150)"
   ]
  },
  {
   "cell_type": "code",
   "execution_count": 10,
   "metadata": {},
   "outputs": [
    {
     "data": {
      "text/plain": [
       "[1, 3, 2, 3]"
      ]
     },
     "execution_count": 10,
     "metadata": {},
     "output_type": "execute_result"
    }
   ],
   "source": [
    "import numpy as np\n",
    "a=np.array([1,2,3])\n",
    "b=np.array([2,3,4])\n",
    "a+b\n",
    "#np.stack((a,b),axis=1)\n",
    "a=[1,3]\n",
    "a+[2,3]"
   ]
  }
 ],
 "metadata": {
  "kernelspec": {
   "display_name": "Python 3",
   "language": "python",
   "name": "python3"
  },
  "language_info": {
   "codemirror_mode": {
    "name": "ipython",
    "version": 3
   },
   "file_extension": ".py",
   "mimetype": "text/x-python",
   "name": "python",
   "nbconvert_exporter": "python",
   "pygments_lexer": "ipython3",
   "version": "3.7.4"
  }
 },
 "nbformat": 4,
 "nbformat_minor": 4
}
