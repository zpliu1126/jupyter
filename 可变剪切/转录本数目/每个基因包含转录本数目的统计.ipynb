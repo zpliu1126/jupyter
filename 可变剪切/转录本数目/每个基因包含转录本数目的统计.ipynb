{
 "cells": [
  {
   "cell_type": "code",
   "execution_count": 4,
   "metadata": {
    "tags": []
   },
   "outputs": [
    {
     "output_type": "stream",
     "name": "stdout",
     "text": "Using matplotlib backend: TkAgg\nPopulating the interactive namespace from numpy and matplotlib\nException in Tkinter callback\nTraceback (most recent call last):\n  File \"C:\\Users\\PC\\AppData\\Local\\Programs\\Python\\Python37\\lib\\tkinter\\__init__.py\", line 1705, in __call__\n    return self.func(*args)\n  File \"C:\\Users\\PC\\AppData\\Local\\Programs\\Python\\Python37\\lib\\tkinter\\__init__.py\", line 749, in callit\n    func(*args)\n  File \"C:\\Users\\PC\\AppData\\Local\\Programs\\Python\\Python37\\lib\\site-packages\\matplotlib\\backends\\_backend_tk.py\", line 270, in idle_draw\n    self.draw()\n  File \"C:\\Users\\PC\\AppData\\Local\\Programs\\Python\\Python37\\lib\\site-packages\\matplotlib\\backends\\backend_tkagg.py\", line 9, in draw\n    super(FigureCanvasTkAgg, self).draw()\n  File \"C:\\Users\\PC\\AppData\\Local\\Programs\\Python\\Python37\\lib\\site-packages\\matplotlib\\backends\\backend_agg.py\", line 393, in draw\n    self.figure.draw(self.renderer)\n  File \"C:\\Users\\PC\\AppData\\Local\\Programs\\Python\\Python37\\lib\\site-packages\\matplotlib\\backend_bases.py\", line 1556, in _draw\n    def _draw(renderer): raise Done(renderer)\nmatplotlib.backend_bases._get_renderer.<locals>.Done: <matplotlib.backends.backend_agg.RendererAgg object at 0x000002277089C2C8>\nException in Tkinter callback\nTraceback (most recent call last):\n  File \"C:\\Users\\PC\\AppData\\Local\\Programs\\Python\\Python37\\lib\\tkinter\\__init__.py\", line 1705, in __call__\n    return self.func(*args)\n  File \"C:\\Users\\PC\\AppData\\Local\\Programs\\Python\\Python37\\lib\\site-packages\\matplotlib\\backends\\_backend_tk.py\", line 259, in resize\n    self.draw()\n  File \"C:\\Users\\PC\\AppData\\Local\\Programs\\Python\\Python37\\lib\\site-packages\\matplotlib\\backends\\backend_tkagg.py\", line 9, in draw\n    super(FigureCanvasTkAgg, self).draw()\n  File \"C:\\Users\\PC\\AppData\\Local\\Programs\\Python\\Python37\\lib\\site-packages\\matplotlib\\backends\\backend_agg.py\", line 393, in draw\n    self.figure.draw(self.renderer)\n  File \"C:\\Users\\PC\\AppData\\Local\\Programs\\Python\\Python37\\lib\\site-packages\\matplotlib\\backend_bases.py\", line 1556, in _draw\n    def _draw(renderer): raise Done(renderer)\nmatplotlib.backend_bases._get_renderer.<locals>.Done: <matplotlib.backends.backend_agg.RendererAgg object at 0x000002277089C2C8>\nException in Tkinter callback\nTraceback (most recent call last):\n  File \"C:\\Users\\PC\\AppData\\Local\\Programs\\Python\\Python37\\lib\\tkinter\\__init__.py\", line 1705, in __call__\n    return self.func(*args)\n  File \"C:\\Users\\PC\\AppData\\Local\\Programs\\Python\\Python37\\lib\\tkinter\\__init__.py\", line 749, in callit\n    func(*args)\n  File \"C:\\Users\\PC\\AppData\\Local\\Programs\\Python\\Python37\\lib\\site-packages\\matplotlib\\backends\\_backend_tk.py\", line 270, in idle_draw\n    self.draw()\n  File \"C:\\Users\\PC\\AppData\\Local\\Programs\\Python\\Python37\\lib\\site-packages\\matplotlib\\backends\\backend_tkagg.py\", line 9, in draw\n    super(FigureCanvasTkAgg, self).draw()\n  File \"C:\\Users\\PC\\AppData\\Local\\Programs\\Python\\Python37\\lib\\site-packages\\matplotlib\\backends\\backend_agg.py\", line 393, in draw\n    self.figure.draw(self.renderer)\n  File \"C:\\Users\\PC\\AppData\\Local\\Programs\\Python\\Python37\\lib\\site-packages\\matplotlib\\backend_bases.py\", line 1556, in _draw\n    def _draw(renderer): raise Done(renderer)\nmatplotlib.backend_bases._get_renderer.<locals>.Done: <matplotlib.backends.backend_agg.RendererAgg object at 0x000002277089C2C8>\n"
    }
   ],
   "source": [
    "import matplotlib\n",
    "import matplotlib.pyplot as plt\n",
    "import numpy as np\n",
    "%pylab\n",
    "def getrawData(fileName,limit):\n",
    "    '''\n",
    "    count\\tgeneId\n",
    "    '''\n",
    "    out=[]\n",
    "    with open(fileName,'r') as File:\n",
    "        for line in  File.readlines():\n",
    "            if int(line.split(\"\\t\")[0])>=limit:\n",
    "                out.append(limit)\n",
    "            else:\n",
    "                out.append(int(line.split(\"\\t\")[0]))\n",
    "    return out\n",
    "A2Data=getrawData(\n",
    "    './A2_isoform_count_gene.txt',\n",
    "10)\n",
    "D5Data=getrawData('./D5_isoform_count_gene.txt',\n",
    "10)\n",
    "AtData=getrawData('./At_isoform_count_gene.txt',\n",
    "10)\n",
    "DtData=getrawData('./Dt_isoform_count_gene.txt',\n",
    "10)\n",
    "\n",
    "def plotHist(Axe,plotData,title):\n",
    "    n, bins, patches = Axe.hist(plotData, \n",
    "                            bins=np.arange(1,11+1)-0.5, ##调整bar的位置\n",
    "                            histtype='bar',\n",
    "                            align='mid',\n",
    "                            rwidth=[0.8,0.8,0.8,0.80,0.8,0.8,0.8,0.8,0.8,0.8],\n",
    "                            )  ##频数直方图\n",
    "    Axe.set_xticks(np.arange(0,11,1))\n",
    "    Axe.set_xticklabels([0, 1, 2, 3, 4, 5, 6, 7, 8, 9,r'>10']) ##修改刻度值\n",
    "    Axe.set_title(title)\n",
    "##绘图函数\n",
    "#plt.style.use('ggplot')\n",
    "fig, ax = plt.subplots(2,2,sharex=True,sharey=True)\n",
    "plotHist(ax[0,0],A2Data,'A2')\n",
    "plotHist(ax[0,1],D5Data,'D5')\n",
    "plotHist(ax[1,0],A2Data,'At')\n",
    "plotHist(ax[1,1],A2Data,'Dt')\n",
    "\n",
    "##生成分组的直方图\n",
    "fig,ax=plt.subplots(figsize=(10,6)) ##设置图片长宽\n",
    "#plt.style.use('ggplot')\n",
    "with plt.style.context('seaborn-paper'):\n",
    "    ax.hist(\n",
    "        [\n",
    "            A2Data,\n",
    "            D5Data,\n",
    "            AtData,\n",
    "            DtData\n",
    "        ],\n",
    "    bins=np.arange(1,11+1)-0.5, ##调整bar的位置\n",
    "    histtype='bar',\n",
    "    align='mid',\n",
    "    rwidth=[0.8,0.8,0.8,0.80,0.8,0.8,0.8,0.8,0.8,0.8],\n",
    "    label=['A2','D5','At','Dt'],\n",
    "    color=['#0984e3','#fd79a8','#ffeaa7','#00b894'],\n",
    "    density=True\n",
    "    )\n",
    "ax.set_xticks(np.arange(0,11,1))\n",
    "ax.set_xticklabels(\n",
    "    [0, 1, 2, 3, 4, 5, 6, 7, 8, 9,r'>10'],\n",
    "    size='10',\n",
    "    ) ##修改刻度值\n",
    "ax.legend()\n",
    "ax.set_xlabel('isoform counts per gene',size=16)\n",
    "ax.set_ylabel('number of gene',size=16)\n",
    "fig.savefig(\"isoformDensity.png\",format=\"png\", bbox_inches=\"tight\",transparent=False)\n",
    "# fig.savefig(\"isoformDensity.pdf\",format=\"pdf\", bbox_inches=\"tight\",transparent=False)"
   ]
  }
 ],
 "metadata": {
  "kernelspec": {
   "display_name": "Python 3",
   "language": "python",
   "name": "python3"
  },
  "language_info": {
   "codemirror_mode": {
    "name": "ipython",
    "version": 3
   },
   "file_extension": ".py",
   "mimetype": "text/x-python",
   "name": "python",
   "nbconvert_exporter": "python",
   "pygments_lexer": "ipython3",
   "version": "3.7.4"
  }
 },
 "nbformat": 4,
 "nbformat_minor": 4
}