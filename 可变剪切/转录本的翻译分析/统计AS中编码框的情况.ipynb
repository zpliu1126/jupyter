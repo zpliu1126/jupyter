{
 "cells": [
  {
   "cell_type": "code",
   "execution_count": 5,
   "metadata": {},
   "outputs": [
    {
     "data": {
      "image/png": "[encoded data removed]",
      "text/plain": [
       "<Figure size 432x288 with 1 Axes>"
      ]
     },
     "metadata": {
      "needs_background": "light"
     },
     "output_type": "display_data"
    },
    {
     "data": {
      "image/png": "[encoded data removed]",
      "text/plain": [
       "<Figure size 432x288 with 1 Axes>"
      ]
     },
     "metadata": {
      "needs_background": "light"
     },
     "output_type": "display_data"
    }
   ],
   "source": [
    "import matplotlib.pyplot as plt\n",
    "import numpy as np\n",
    "ASEvent = ['IR', 'SE', 'AA', 'AD']\n",
    "\n",
    "\n",
    "###in-frame change \n",
    "radio = [0.399232, 0.52504, 0.485449, 0.455526]\n",
    "fig, ax = plt.subplots()\n",
    "y_pos = np.arange(len(ASEvent))\n",
    "np.repeat\n",
    "ax.barh(y_pos, radio,height=0.5,color='#3ec1d3') ##绘制柱状图\n",
    "ax.set_yticks(y_pos)\n",
    "ax.set_yticklabels(ASEvent,\n",
    "                   fontdict={\n",
    "                       'size': '15'\n",
    "                   })\n",
    "\n",
    "ax.set_title('% of AS with in-frame ORF(TM-1)',    fontdict={\n",
    "    'size': '15'\n",
    "})\n",
    "ax.set_xticks([0,0.2,0.4,0.6])\n",
    "ax.set_xticklabels(['0%', '20%', '40%','60%'],\n",
    "                   fontdict={\n",
    "    'size': '12'\n",
    "})  # 将值显示为百分比\n",
    "\n",
    "ax.xaxis.set_ticks_position('top')  # 设置x轴刻度线的位置\n",
    "ax.invert_xaxis()  # 翻转x轴\n",
    "ax.yaxis.set_ticks_position('right')  # 设置刻度线的位置\n",
    "ax.invert_yaxis()  # 翻转y轴\n",
    "\n",
    "# 隐藏对应的坐标轴\n",
    "ax.spines['bottom'].set_visible(False)\n",
    "ax.spines['left'].set_visible(False)\n",
    "fig.savefig('/public/home/zpliu/work/Alternative/result/Gh_result/CO31_32_result/ORF/AS_frameshift.png', dpi=150, bbox_inches=\"tight\")\n",
    "#############################\n",
    "##early sop\n",
    "radio = [0.329611, 0.208939, 0.232761, 0.243133]\n",
    "fig, ax = plt.subplots()\n",
    "y_pos = np.arange(len(ASEvent))\n",
    "np.repeat\n",
    "ax.barh(y_pos, radio,height=0.5,color='#3ec1d3') ##绘制柱状图\n",
    "ax.set_yticks(y_pos)\n",
    "ax.set_yticklabels(ASEvent,\n",
    "                   fontdict={\n",
    "                       'size': '15'\n",
    "                   })\n",
    "\n",
    "ax.set_title('% of AS with early stop codon(TM-1)',    fontdict={\n",
    "    'size': '15'\n",
    "})\n",
    "ax.set_xticks([0,0.2,0.4,0.6])\n",
    "ax.set_xticklabels(['0%', '20%', '40%','60%'],\n",
    "                   fontdict={\n",
    "    'size': '12'\n",
    "})  # 将值显示为百分比\n",
    "\n",
    "ax.xaxis.set_ticks_position('top')  # 设置x轴刻度线的位置\n",
    "#ax.invert_xaxis()  # 翻转x轴\n",
    "ax.yaxis.set_ticks_position('left')  # 设置刻度线的位置\n",
    "ax.invert_yaxis()  # 翻转y轴\n",
    "\n",
    "# 隐藏对应的坐标轴\n",
    "ax.spines['bottom'].set_visible(False)\n",
    "ax.spines['right'].set_visible(False)\n",
    "fig.savefig('/public/home/zpliu/work/Alternative/result/Gh_result/CO31_32_result/ORF/AS_earlyStop.png', dpi=150, bbox_inches=\"tight\")"
   ]
  }
 ],
 "metadata": {
  "kernelspec": {
   "display_name": "Python 3",
   "language": "python",
   "name": "python3"
  },
  "language_info": {
   "codemirror_mode": {
    "name": "ipython",
    "version": 3
   },
   "file_extension": ".py",
   "mimetype": "text/x-python",
   "name": "python",
   "nbconvert_exporter": "python",
   "pygments_lexer": "ipython3",
   "version": "3.8.5"
  }
 },
 "nbformat": 4,
 "nbformat_minor": 4
}
