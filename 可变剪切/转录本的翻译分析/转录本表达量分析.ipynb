{
 "cells": [
  {
   "cell_type": "markdown",
   "metadata": {},
   "source": [
    "### 比较Annotion与unAnnotion转录本表达水平的差异\n",
    "\n"
   ]
  },
  {
   "cell_type": "code",
   "execution_count": 20,
   "metadata": {},
   "outputs": [
    {
     "name": "stdout",
     "output_type": "stream",
     "text": [
      "0.29284551397900976\n",
      "Ttest_indResult(statistic=91.59895981915172, pvalue=0.0)\n",
      "Ttest_indResult(statistic=91.59895981915172, pvalue=0.0)\n"
     ]
    },
    {
     "name": "stderr",
     "output_type": "stream",
     "text": [
      "/public/home/zpliu/miniconda3/envs/jupyter/lib/python3.8/site-packages/numpy/core/_asarray.py:83: VisibleDeprecationWarning: Creating an ndarray from ragged nested sequences (which is a list-or-tuple of lists-or-tuples-or ndarrays with different lengths or shapes) is deprecated. If you meant to do this, you must specify 'dtype=object' when creating the ndarray\n",
      "  return array(a, dtype, copy=False, order=order)\n"
     ]
    },
    {
     "data": {
      "image/png": "[encoded data removed]",
      "text/plain": [
       "<Figure size 576x720 with 1 Axes>"
      ]
     },
     "metadata": {
      "needs_background": "light"
     },
     "output_type": "display_data"
    }
   ],
   "source": [
    "import numpy as np\n",
    "import math\n",
    "from scipy import stats\n",
    "import matplotlib.pyplot as plt \n",
    "def getisoformLengtArray(file):\n",
    "    with open(file,'r') as File:\n",
    "        tmp=[]\n",
    "        for line in File.readlines():\n",
    "            tmp.append(line.split(\"\\t\")[-2])\n",
    "        \n",
    "        return [math.log(float(i)+1,10) for i in tmp]\n",
    "            \n",
    "Annotion=getisoformLengtArray('/public/home/zpliu/work/Alternative/result/Gh_result/CO31_32_result/collapse/PacBio_Annotion/Annotion_isoform_FPKM')\n",
    "unAnnotion=getisoformLengtArray('/public/home/zpliu/work/Alternative/result/Gh_result/CO31_32_result/collapse/PacBio_Annotion/unAnnotion_isoform_FPKM')\n",
    "plotdata=[Annotion,unAnnotion]\n",
    "print(Annotion[0])\n",
    "fig, ax = plt.subplots(figsize=(8, 10))\n",
    "\n",
    "boxplot1=ax.boxplot(plotdata,\n",
    "          notch=False,\n",
    "           showfliers=False, ##隐藏异常值\n",
    "            patch_artist=True, ##修改颜色填充\n",
    "            boxprops = {'color':'black'}, ##设置边框颜色\n",
    "            medianprops={'color':'black'} ##设置均值的颜色\n",
    "           \n",
    "          )\n",
    "ax.set_ylim(ymax=2.5)\n",
    "'''\n",
    "设置y轴title\n",
    "'''\n",
    "ax.set_ylabel(\n",
    "    'log10(FPKM+1)',\n",
    "    fontdict={\n",
    "        'size':'15'\n",
    "    }\n",
    ")\n",
    "ax.set_xticklabels(\n",
    "    ['Annotion','unAnnotion'],\n",
    "    fontdict={\n",
    "        'size':'15',\n",
    "        'rotation':'30', ##旋转45度\n",
    "    }\n",
    "                  )\n",
    "ax.set_title('TM1',\n",
    "             fontdict={\n",
    "        'size':'15'\n",
    "    })\n",
    "ax.plot()\n",
    "\n",
    "print(stats.ttest_ind(Annotion,unAnnotion,equal_var = False)) \n",
    "print(stats.ttest_ind(Annotion,unAnnotion,equal_var = False)) \n",
    "'''\n",
    "绘制直线的位置\n",
    "x轴坐标\n",
    "y轴坐标\n",
    "'''\n",
    "x=np.arange(0.95,2.15,0.1)\n",
    "y=2.1+0*x\n",
    "ax.plot(x,y,label=\"$y$\",color=\"black\",linewidth=1)\n",
    "\n",
    "'''\n",
    "添加显著性标记\n",
    "'''\n",
    "ax.annotate(r'$***$',\n",
    "            xy=(1.45,2.11),\n",
    "            #textcoords='offset points',\n",
    "            fontsize=16,\n",
    "            color=\"red\"\n",
    "           )\n",
    "\n",
    "\n",
    "\n",
    "###设置填充色\n",
    "colors=['#f38181','#95e1d3']\n",
    "for patch,color in zip(boxplot1['boxes'],colors):\n",
    "    patch.set_facecolor(color)\n",
    "\n",
    "    \n",
    "'''\n",
    "保存图片\n",
    "'''\n",
    "fig.savefig('/public/home/zpliu/work/Alternative/result/Gh_result/CO31_32_result/collapse/PacBio_Annotion/Annotion_vs_unAnnotion_FPKM.png', dpi=150, bbox_inches=\"tight\")"
   ]
  }
 ],
 "metadata": {
  "kernelspec": {
   "display_name": "Python 3",
   "language": "python",
   "name": "python3"
  },
  "language_info": {
   "codemirror_mode": {
    "name": "ipython",
    "version": 3
   },
   "file_extension": ".py",
   "mimetype": "text/x-python",
   "name": "python",
   "nbconvert_exporter": "python",
   "pygments_lexer": "ipython3",
   "version": "3.8.5"
  }
 },
 "nbformat": 4,
 "nbformat_minor": 4
}
